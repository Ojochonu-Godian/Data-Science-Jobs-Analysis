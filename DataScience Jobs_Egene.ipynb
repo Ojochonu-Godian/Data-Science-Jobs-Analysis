{
 "cells": [
  {
   "cell_type": "markdown",
   "id": "3d1dce26",
   "metadata": {},
   "source": [
    "# Data Science Jobs Analysis\n",
    "September 2022 Pomerol Partners #Datadna challenge"
   ]
  },
  {
   "cell_type": "code",
   "execution_count": null,
   "id": "7ebe119d",
   "metadata": {},
   "outputs": [],
   "source": []
  },
  {
   "cell_type": "markdown",
   "id": "3686f5f3",
   "metadata": {},
   "source": [
    "## Content\n",
    "* Data Preparation and Cleaning\n",
    "* Exploratory Data Analysis\n",
    "* Conclusion"
   ]
  },
  {
   "cell_type": "code",
   "execution_count": null,
   "id": "406efaf6",
   "metadata": {},
   "outputs": [],
   "source": []
  },
  {
   "cell_type": "markdown",
   "id": "3da05ae9",
   "metadata": {},
   "source": [
    "### Data Preparation and Cleaning"
   ]
  },
  {
   "cell_type": "markdown",
   "id": "a6a1b232",
   "metadata": {},
   "source": [
    "##### Importing the libraries"
   ]
  },
  {
   "cell_type": "code",
   "execution_count": 1,
   "id": "dac1fe23",
   "metadata": {},
   "outputs": [],
   "source": [
    "import pandas as pd\n",
    "import numpy as np\n",
    "import seaborn as sns\n",
    "import matplotlib.pyplot as plt\n",
    "sns.set(rc = {'figure.figsize': (20, 20)})\n",
    "\n",
    "import warnings\n",
    "warnings.filterwarnings(\"ignore\")\n",
    "\n",
    "%matplotlib inline"
   ]
  },
  {
   "cell_type": "markdown",
   "id": "a4003135",
   "metadata": {},
   "source": [
    "##### Loading the dataset"
   ]
  },
  {
   "cell_type": "code",
   "execution_count": 2,
   "id": "0253c64a",
   "metadata": {},
   "outputs": [],
   "source": [
    "df = pd.read_csv('ds_salaries.csv')"
   ]
  },
  {
   "cell_type": "code",
   "execution_count": 3,
   "id": "7705c169",
   "metadata": {},
   "outputs": [
    {
     "data": {
      "text/html": [
       "<div>\n",
       "<style scoped>\n",
       "    .dataframe tbody tr th:only-of-type {\n",
       "        vertical-align: middle;\n",
       "    }\n",
       "\n",
       "    .dataframe tbody tr th {\n",
       "        vertical-align: top;\n",
       "    }\n",
       "\n",
       "    .dataframe thead th {\n",
       "        text-align: right;\n",
       "    }\n",
       "</style>\n",
       "<table border=\"1\" class=\"dataframe\">\n",
       "  <thead>\n",
       "    <tr style=\"text-align: right;\">\n",
       "      <th></th>\n",
       "      <th>ID</th>\n",
       "      <th>Work Year</th>\n",
       "      <th>Experience Level</th>\n",
       "      <th>Employment Type</th>\n",
       "      <th>Job Title</th>\n",
       "      <th>Salary</th>\n",
       "      <th>Salary Currency</th>\n",
       "      <th>Salary in USD</th>\n",
       "      <th>Employee Residence</th>\n",
       "      <th>Remote Ratio</th>\n",
       "      <th>Company Location</th>\n",
       "      <th>Company Size</th>\n",
       "    </tr>\n",
       "  </thead>\n",
       "  <tbody>\n",
       "    <tr>\n",
       "      <th>0</th>\n",
       "      <td>0</td>\n",
       "      <td>2020</td>\n",
       "      <td>Junior Level/ Mid</td>\n",
       "      <td>Full Time</td>\n",
       "      <td>Data Scientist</td>\n",
       "      <td>70000</td>\n",
       "      <td>EUR</td>\n",
       "      <td>79833</td>\n",
       "      <td>DE</td>\n",
       "      <td>0</td>\n",
       "      <td>DE</td>\n",
       "      <td>L</td>\n",
       "    </tr>\n",
       "    <tr>\n",
       "      <th>1</th>\n",
       "      <td>1</td>\n",
       "      <td>2020</td>\n",
       "      <td>Senior Level/ Intermediate</td>\n",
       "      <td>Full Time</td>\n",
       "      <td>Machine Learning Scientist</td>\n",
       "      <td>260000</td>\n",
       "      <td>USD</td>\n",
       "      <td>260000</td>\n",
       "      <td>JP</td>\n",
       "      <td>0</td>\n",
       "      <td>JP</td>\n",
       "      <td>S</td>\n",
       "    </tr>\n",
       "    <tr>\n",
       "      <th>2</th>\n",
       "      <td>2</td>\n",
       "      <td>2020</td>\n",
       "      <td>Senior Level/ Intermediate</td>\n",
       "      <td>Full Time</td>\n",
       "      <td>Big Data Engineer</td>\n",
       "      <td>85000</td>\n",
       "      <td>GBP</td>\n",
       "      <td>109024</td>\n",
       "      <td>GB</td>\n",
       "      <td>50</td>\n",
       "      <td>GB</td>\n",
       "      <td>M</td>\n",
       "    </tr>\n",
       "    <tr>\n",
       "      <th>3</th>\n",
       "      <td>3</td>\n",
       "      <td>2020</td>\n",
       "      <td>Junior Level/ Mid</td>\n",
       "      <td>Full Time</td>\n",
       "      <td>Product Data Analyst</td>\n",
       "      <td>20000</td>\n",
       "      <td>USD</td>\n",
       "      <td>20000</td>\n",
       "      <td>HN</td>\n",
       "      <td>0</td>\n",
       "      <td>HN</td>\n",
       "      <td>S</td>\n",
       "    </tr>\n",
       "    <tr>\n",
       "      <th>4</th>\n",
       "      <td>4</td>\n",
       "      <td>2020</td>\n",
       "      <td>Senior Level/ Intermediate</td>\n",
       "      <td>Full Time</td>\n",
       "      <td>Machine Learning Engineer</td>\n",
       "      <td>150000</td>\n",
       "      <td>USD</td>\n",
       "      <td>150000</td>\n",
       "      <td>US</td>\n",
       "      <td>50</td>\n",
       "      <td>US</td>\n",
       "      <td>L</td>\n",
       "    </tr>\n",
       "  </tbody>\n",
       "</table>\n",
       "</div>"
      ],
      "text/plain": [
       "   ID  Work Year            Experience Level Employment Type  \\\n",
       "0   0       2020           Junior Level/ Mid       Full Time   \n",
       "1   1       2020  Senior Level/ Intermediate       Full Time   \n",
       "2   2       2020  Senior Level/ Intermediate       Full Time   \n",
       "3   3       2020           Junior Level/ Mid       Full Time   \n",
       "4   4       2020  Senior Level/ Intermediate       Full Time   \n",
       "\n",
       "                    Job Title  Salary Salary Currency  Salary in USD  \\\n",
       "0              Data Scientist   70000             EUR          79833   \n",
       "1  Machine Learning Scientist  260000             USD         260000   \n",
       "2           Big Data Engineer   85000             GBP         109024   \n",
       "3        Product Data Analyst   20000             USD          20000   \n",
       "4   Machine Learning Engineer  150000             USD         150000   \n",
       "\n",
       "  Employee Residence  Remote Ratio Company Location Company Size  \n",
       "0                 DE             0               DE            L  \n",
       "1                 JP             0               JP            S  \n",
       "2                 GB            50               GB            M  \n",
       "3                 HN             0               HN            S  \n",
       "4                 US            50               US            L  "
      ]
     },
     "execution_count": 3,
     "metadata": {},
     "output_type": "execute_result"
    }
   ],
   "source": [
    "df.head()"
   ]
  },
  {
   "cell_type": "markdown",
   "id": "98d62be7",
   "metadata": {},
   "source": [
    "##### Checking for null elements"
   ]
  },
  {
   "cell_type": "code",
   "execution_count": 4,
   "id": "9870ae30",
   "metadata": {},
   "outputs": [
    {
     "data": {
      "text/plain": [
       "ID                    0\n",
       "Work Year             0\n",
       "Experience Level      0\n",
       "Employment Type       0\n",
       "Job Title             0\n",
       "Salary                0\n",
       "Salary Currency       0\n",
       "Salary in USD         0\n",
       "Employee Residence    0\n",
       "Remote Ratio          0\n",
       "Company Location      0\n",
       "Company Size          0\n",
       "dtype: int64"
      ]
     },
     "execution_count": 4,
     "metadata": {},
     "output_type": "execute_result"
    }
   ],
   "source": [
    "df.isnull().sum()"
   ]
  },
  {
   "cell_type": "markdown",
   "id": "93f378ca",
   "metadata": {},
   "source": [
    "The dataset contains no missing values"
   ]
  },
  {
   "cell_type": "markdown",
   "id": "c3ce30db",
   "metadata": {},
   "source": [
    "##### Preparing the data for use"
   ]
  },
  {
   "cell_type": "code",
   "execution_count": null,
   "id": "8e211cf1",
   "metadata": {},
   "outputs": [],
   "source": []
  },
  {
   "cell_type": "code",
   "execution_count": 5,
   "id": "cf60dc9c",
   "metadata": {},
   "outputs": [],
   "source": [
    "df1 = df.copy() # making a copy of the dataset"
   ]
  },
  {
   "cell_type": "code",
   "execution_count": 6,
   "id": "785d9d95",
   "metadata": {},
   "outputs": [
    {
     "name": "stdout",
     "output_type": "stream",
     "text": [
      "<class 'pandas.core.frame.DataFrame'>\n",
      "RangeIndex: 607 entries, 0 to 606\n",
      "Data columns (total 12 columns):\n",
      " #   Column              Non-Null Count  Dtype \n",
      "---  ------              --------------  ----- \n",
      " 0   ID                  607 non-null    int64 \n",
      " 1   Work Year           607 non-null    int64 \n",
      " 2   Experience Level    607 non-null    object\n",
      " 3   Employment Type     607 non-null    object\n",
      " 4   Job Title           607 non-null    object\n",
      " 5   Salary              607 non-null    int64 \n",
      " 6   Salary Currency     607 non-null    object\n",
      " 7   Salary in USD       607 non-null    int64 \n",
      " 8   Employee Residence  607 non-null    object\n",
      " 9   Remote Ratio        607 non-null    int64 \n",
      " 10  Company Location    607 non-null    object\n",
      " 11  Company Size        607 non-null    object\n",
      "dtypes: int64(5), object(7)\n",
      "memory usage: 57.0+ KB\n"
     ]
    }
   ],
   "source": [
    "df1.info() # To check for the type of data in each column of the dataset"
   ]
  },
  {
   "cell_type": "code",
   "execution_count": 7,
   "id": "80e65780",
   "metadata": {},
   "outputs": [
    {
     "data": {
      "text/plain": [
       "['Experience Level',\n",
       " 'Employment Type',\n",
       " 'Job Title',\n",
       " 'Salary Currency',\n",
       " 'Employee Residence',\n",
       " 'Company Location',\n",
       " 'Company Size']"
      ]
     },
     "execution_count": 7,
     "metadata": {},
     "output_type": "execute_result"
    }
   ],
   "source": [
    "category = list(df.dtypes[df.dtypes=='object'].index)\n",
    "category"
   ]
  },
  {
   "cell_type": "code",
   "execution_count": 8,
   "id": "7a25cccc",
   "metadata": {},
   "outputs": [
    {
     "name": "stdout",
     "output_type": "stream",
     "text": [
      "ID\n",
      "[0 1 2 3 4 5 6 7 8 9]\n",
      "607\n",
      "\n",
      "Work Year\n",
      "[2020 2021 2022]\n",
      "3\n",
      "\n",
      "Experience Level\n",
      "['Junior Level/ Mid' 'Senior Level/ Intermediate' 'Entry Level'\n",
      " 'Executive Level/ Director']\n",
      "4\n",
      "\n",
      "Employment Type\n",
      "['Full Time' 'Contract' 'Part Time']\n",
      "3\n",
      "\n",
      "Job Title\n",
      "['Data Scientist' 'Machine Learning Scientist' 'Big Data Engineer'\n",
      " 'Product Data Analyst' 'Machine Learning Engineer' 'Data Analyst'\n",
      " 'Lead Data Scientist' 'Business Data Analyst' 'Lead Data Engineer'\n",
      " 'Lead Data Analyst']\n",
      "50\n",
      "\n",
      "Salary\n",
      "[   70000   260000    85000    20000   150000    72000   190000 11000000\n",
      "   135000   125000]\n",
      "272\n",
      "\n",
      "Salary Currency\n",
      "['EUR' 'USD' 'GBP' 'HUF' 'INR' 'JPY' 'CNY' 'MXN' 'CAD' 'DKK']\n",
      "17\n",
      "\n",
      "Salary in USD\n",
      "[ 79833 260000 109024  20000 150000  72000 190000  35735 135000 125000]\n",
      "369\n",
      "\n",
      "Employee Residence\n",
      "['DE' 'JP' 'GB' 'HN' 'US' 'HU' 'NZ' 'FR' 'IN' 'PK']\n",
      "57\n",
      "\n",
      "Remote Ratio\n",
      "[  0  50 100]\n",
      "3\n",
      "\n",
      "Company Location\n",
      "['DE' 'JP' 'GB' 'HN' 'US' 'HU' 'NZ' 'FR' 'IN' 'PK']\n",
      "50\n",
      "\n",
      "Company Size\n",
      "['L' 'S' 'M']\n",
      "3\n",
      "\n"
     ]
    }
   ],
   "source": [
    "# check the unique values in each column\n",
    "# Print the first ten unique values in each column\n",
    "for col in df1.columns:\n",
    "    print(col)\n",
    "    print(df[col].unique()[:10])\n",
    "    print(df[col].nunique())\n",
    "    print()"
   ]
  },
  {
   "cell_type": "markdown",
   "id": "7b9e53fb",
   "metadata": {},
   "source": [
    "For this project I will replace the string values of the \"Company Size\" column as done below"
   ]
  },
  {
   "cell_type": "code",
   "execution_count": 9,
   "id": "5c355aed",
   "metadata": {},
   "outputs": [],
   "source": [
    "df1['Company Size'] = df1['Company Size'].str.replace('L','Large')\n",
    "df1['Company Size'] = df1['Company Size'].str.replace('S','Small')\n",
    "df1['Company Size'] = df1['Company Size'].str.replace('M','Medium')"
   ]
  },
  {
   "cell_type": "code",
   "execution_count": 10,
   "id": "3eb7de48",
   "metadata": {},
   "outputs": [
    {
     "data": {
      "text/html": [
       "<div>\n",
       "<style scoped>\n",
       "    .dataframe tbody tr th:only-of-type {\n",
       "        vertical-align: middle;\n",
       "    }\n",
       "\n",
       "    .dataframe tbody tr th {\n",
       "        vertical-align: top;\n",
       "    }\n",
       "\n",
       "    .dataframe thead th {\n",
       "        text-align: right;\n",
       "    }\n",
       "</style>\n",
       "<table border=\"1\" class=\"dataframe\">\n",
       "  <thead>\n",
       "    <tr style=\"text-align: right;\">\n",
       "      <th></th>\n",
       "      <th>ID</th>\n",
       "      <th>Work Year</th>\n",
       "      <th>Experience Level</th>\n",
       "      <th>Employment Type</th>\n",
       "      <th>Job Title</th>\n",
       "      <th>Salary</th>\n",
       "      <th>Salary Currency</th>\n",
       "      <th>Salary in USD</th>\n",
       "      <th>Employee Residence</th>\n",
       "      <th>Remote Ratio</th>\n",
       "      <th>Company Location</th>\n",
       "      <th>Company Size</th>\n",
       "    </tr>\n",
       "  </thead>\n",
       "  <tbody>\n",
       "    <tr>\n",
       "      <th>0</th>\n",
       "      <td>0</td>\n",
       "      <td>2020</td>\n",
       "      <td>Junior Level/ Mid</td>\n",
       "      <td>Full Time</td>\n",
       "      <td>Data Scientist</td>\n",
       "      <td>70000</td>\n",
       "      <td>EUR</td>\n",
       "      <td>79833</td>\n",
       "      <td>DE</td>\n",
       "      <td>0</td>\n",
       "      <td>DE</td>\n",
       "      <td>Large</td>\n",
       "    </tr>\n",
       "    <tr>\n",
       "      <th>1</th>\n",
       "      <td>1</td>\n",
       "      <td>2020</td>\n",
       "      <td>Senior Level/ Intermediate</td>\n",
       "      <td>Full Time</td>\n",
       "      <td>Machine Learning Scientist</td>\n",
       "      <td>260000</td>\n",
       "      <td>USD</td>\n",
       "      <td>260000</td>\n",
       "      <td>JP</td>\n",
       "      <td>0</td>\n",
       "      <td>JP</td>\n",
       "      <td>Small</td>\n",
       "    </tr>\n",
       "    <tr>\n",
       "      <th>2</th>\n",
       "      <td>2</td>\n",
       "      <td>2020</td>\n",
       "      <td>Senior Level/ Intermediate</td>\n",
       "      <td>Full Time</td>\n",
       "      <td>Big Data Engineer</td>\n",
       "      <td>85000</td>\n",
       "      <td>GBP</td>\n",
       "      <td>109024</td>\n",
       "      <td>GB</td>\n",
       "      <td>50</td>\n",
       "      <td>GB</td>\n",
       "      <td>Medium</td>\n",
       "    </tr>\n",
       "    <tr>\n",
       "      <th>3</th>\n",
       "      <td>3</td>\n",
       "      <td>2020</td>\n",
       "      <td>Junior Level/ Mid</td>\n",
       "      <td>Full Time</td>\n",
       "      <td>Product Data Analyst</td>\n",
       "      <td>20000</td>\n",
       "      <td>USD</td>\n",
       "      <td>20000</td>\n",
       "      <td>HN</td>\n",
       "      <td>0</td>\n",
       "      <td>HN</td>\n",
       "      <td>Small</td>\n",
       "    </tr>\n",
       "    <tr>\n",
       "      <th>4</th>\n",
       "      <td>4</td>\n",
       "      <td>2020</td>\n",
       "      <td>Senior Level/ Intermediate</td>\n",
       "      <td>Full Time</td>\n",
       "      <td>Machine Learning Engineer</td>\n",
       "      <td>150000</td>\n",
       "      <td>USD</td>\n",
       "      <td>150000</td>\n",
       "      <td>US</td>\n",
       "      <td>50</td>\n",
       "      <td>US</td>\n",
       "      <td>Large</td>\n",
       "    </tr>\n",
       "  </tbody>\n",
       "</table>\n",
       "</div>"
      ],
      "text/plain": [
       "   ID  Work Year            Experience Level Employment Type  \\\n",
       "0   0       2020           Junior Level/ Mid       Full Time   \n",
       "1   1       2020  Senior Level/ Intermediate       Full Time   \n",
       "2   2       2020  Senior Level/ Intermediate       Full Time   \n",
       "3   3       2020           Junior Level/ Mid       Full Time   \n",
       "4   4       2020  Senior Level/ Intermediate       Full Time   \n",
       "\n",
       "                    Job Title  Salary Salary Currency  Salary in USD  \\\n",
       "0              Data Scientist   70000             EUR          79833   \n",
       "1  Machine Learning Scientist  260000             USD         260000   \n",
       "2           Big Data Engineer   85000             GBP         109024   \n",
       "3        Product Data Analyst   20000             USD          20000   \n",
       "4   Machine Learning Engineer  150000             USD         150000   \n",
       "\n",
       "  Employee Residence  Remote Ratio Company Location Company Size  \n",
       "0                 DE             0               DE        Large  \n",
       "1                 JP             0               JP        Small  \n",
       "2                 GB            50               GB       Medium  \n",
       "3                 HN             0               HN        Small  \n",
       "4                 US            50               US        Large  "
      ]
     },
     "execution_count": 10,
     "metadata": {},
     "output_type": "execute_result"
    }
   ],
   "source": [
    "df1.head()"
   ]
  },
  {
   "cell_type": "markdown",
   "id": "82649ec8",
   "metadata": {},
   "source": [
    "Also, in the 'Remote Ratio' column... 0 means No remote/ On site, 50 means Partially remote/ Hybrid and 100 means Fully remote/ Remote."
   ]
  },
  {
   "cell_type": "code",
   "execution_count": 11,
   "id": "fd9bade4",
   "metadata": {},
   "outputs": [],
   "source": [
    "df1['Remote Ratio'] = df1['Remote Ratio'].replace(0,'On site')\n",
    "df1['Remote Ratio'] = df1['Remote Ratio'].replace(50,'Hybrid')\n",
    "df1['Remote Ratio'] = df1['Remote Ratio'].replace(100,'Remote')"
   ]
  },
  {
   "cell_type": "code",
   "execution_count": 12,
   "id": "d0a56949",
   "metadata": {},
   "outputs": [
    {
     "data": {
      "text/html": [
       "<div>\n",
       "<style scoped>\n",
       "    .dataframe tbody tr th:only-of-type {\n",
       "        vertical-align: middle;\n",
       "    }\n",
       "\n",
       "    .dataframe tbody tr th {\n",
       "        vertical-align: top;\n",
       "    }\n",
       "\n",
       "    .dataframe thead th {\n",
       "        text-align: right;\n",
       "    }\n",
       "</style>\n",
       "<table border=\"1\" class=\"dataframe\">\n",
       "  <thead>\n",
       "    <tr style=\"text-align: right;\">\n",
       "      <th></th>\n",
       "      <th>ID</th>\n",
       "      <th>Work Year</th>\n",
       "      <th>Experience Level</th>\n",
       "      <th>Employment Type</th>\n",
       "      <th>Job Title</th>\n",
       "      <th>Salary</th>\n",
       "      <th>Salary Currency</th>\n",
       "      <th>Salary in USD</th>\n",
       "      <th>Employee Residence</th>\n",
       "      <th>Remote Ratio</th>\n",
       "      <th>Company Location</th>\n",
       "      <th>Company Size</th>\n",
       "    </tr>\n",
       "  </thead>\n",
       "  <tbody>\n",
       "    <tr>\n",
       "      <th>0</th>\n",
       "      <td>0</td>\n",
       "      <td>2020</td>\n",
       "      <td>Junior Level/ Mid</td>\n",
       "      <td>Full Time</td>\n",
       "      <td>Data Scientist</td>\n",
       "      <td>70000</td>\n",
       "      <td>EUR</td>\n",
       "      <td>79833</td>\n",
       "      <td>DE</td>\n",
       "      <td>On site</td>\n",
       "      <td>DE</td>\n",
       "      <td>Large</td>\n",
       "    </tr>\n",
       "    <tr>\n",
       "      <th>1</th>\n",
       "      <td>1</td>\n",
       "      <td>2020</td>\n",
       "      <td>Senior Level/ Intermediate</td>\n",
       "      <td>Full Time</td>\n",
       "      <td>Machine Learning Scientist</td>\n",
       "      <td>260000</td>\n",
       "      <td>USD</td>\n",
       "      <td>260000</td>\n",
       "      <td>JP</td>\n",
       "      <td>On site</td>\n",
       "      <td>JP</td>\n",
       "      <td>Small</td>\n",
       "    </tr>\n",
       "    <tr>\n",
       "      <th>2</th>\n",
       "      <td>2</td>\n",
       "      <td>2020</td>\n",
       "      <td>Senior Level/ Intermediate</td>\n",
       "      <td>Full Time</td>\n",
       "      <td>Big Data Engineer</td>\n",
       "      <td>85000</td>\n",
       "      <td>GBP</td>\n",
       "      <td>109024</td>\n",
       "      <td>GB</td>\n",
       "      <td>Hybrid</td>\n",
       "      <td>GB</td>\n",
       "      <td>Medium</td>\n",
       "    </tr>\n",
       "    <tr>\n",
       "      <th>3</th>\n",
       "      <td>3</td>\n",
       "      <td>2020</td>\n",
       "      <td>Junior Level/ Mid</td>\n",
       "      <td>Full Time</td>\n",
       "      <td>Product Data Analyst</td>\n",
       "      <td>20000</td>\n",
       "      <td>USD</td>\n",
       "      <td>20000</td>\n",
       "      <td>HN</td>\n",
       "      <td>On site</td>\n",
       "      <td>HN</td>\n",
       "      <td>Small</td>\n",
       "    </tr>\n",
       "    <tr>\n",
       "      <th>4</th>\n",
       "      <td>4</td>\n",
       "      <td>2020</td>\n",
       "      <td>Senior Level/ Intermediate</td>\n",
       "      <td>Full Time</td>\n",
       "      <td>Machine Learning Engineer</td>\n",
       "      <td>150000</td>\n",
       "      <td>USD</td>\n",
       "      <td>150000</td>\n",
       "      <td>US</td>\n",
       "      <td>Hybrid</td>\n",
       "      <td>US</td>\n",
       "      <td>Large</td>\n",
       "    </tr>\n",
       "  </tbody>\n",
       "</table>\n",
       "</div>"
      ],
      "text/plain": [
       "   ID  Work Year            Experience Level Employment Type  \\\n",
       "0   0       2020           Junior Level/ Mid       Full Time   \n",
       "1   1       2020  Senior Level/ Intermediate       Full Time   \n",
       "2   2       2020  Senior Level/ Intermediate       Full Time   \n",
       "3   3       2020           Junior Level/ Mid       Full Time   \n",
       "4   4       2020  Senior Level/ Intermediate       Full Time   \n",
       "\n",
       "                    Job Title  Salary Salary Currency  Salary in USD  \\\n",
       "0              Data Scientist   70000             EUR          79833   \n",
       "1  Machine Learning Scientist  260000             USD         260000   \n",
       "2           Big Data Engineer   85000             GBP         109024   \n",
       "3        Product Data Analyst   20000             USD          20000   \n",
       "4   Machine Learning Engineer  150000             USD         150000   \n",
       "\n",
       "  Employee Residence Remote Ratio Company Location Company Size  \n",
       "0                 DE      On site               DE        Large  \n",
       "1                 JP      On site               JP        Small  \n",
       "2                 GB       Hybrid               GB       Medium  \n",
       "3                 HN      On site               HN        Small  \n",
       "4                 US       Hybrid               US        Large  "
      ]
     },
     "execution_count": 12,
     "metadata": {},
     "output_type": "execute_result"
    }
   ],
   "source": [
    "df1.head()"
   ]
  },
  {
   "cell_type": "code",
   "execution_count": 13,
   "id": "6c9e8aa2",
   "metadata": {},
   "outputs": [],
   "source": [
    "df1 = df1.drop(columns = 'ID') # To drop the \"ID\" column as it's not needed for this analysis."
   ]
  },
  {
   "cell_type": "code",
   "execution_count": 14,
   "id": "afd04341",
   "metadata": {},
   "outputs": [
    {
     "data": {
      "text/html": [
       "<div>\n",
       "<style scoped>\n",
       "    .dataframe tbody tr th:only-of-type {\n",
       "        vertical-align: middle;\n",
       "    }\n",
       "\n",
       "    .dataframe tbody tr th {\n",
       "        vertical-align: top;\n",
       "    }\n",
       "\n",
       "    .dataframe thead th {\n",
       "        text-align: right;\n",
       "    }\n",
       "</style>\n",
       "<table border=\"1\" class=\"dataframe\">\n",
       "  <thead>\n",
       "    <tr style=\"text-align: right;\">\n",
       "      <th></th>\n",
       "      <th>Work Year</th>\n",
       "      <th>Experience Level</th>\n",
       "      <th>Employment Type</th>\n",
       "      <th>Job Title</th>\n",
       "      <th>Salary</th>\n",
       "      <th>Salary Currency</th>\n",
       "      <th>Salary in USD</th>\n",
       "      <th>Employee Residence</th>\n",
       "      <th>Remote Ratio</th>\n",
       "      <th>Company Location</th>\n",
       "      <th>Company Size</th>\n",
       "    </tr>\n",
       "  </thead>\n",
       "  <tbody>\n",
       "    <tr>\n",
       "      <th>0</th>\n",
       "      <td>2020</td>\n",
       "      <td>Junior Level/ Mid</td>\n",
       "      <td>Full Time</td>\n",
       "      <td>Data Scientist</td>\n",
       "      <td>70000</td>\n",
       "      <td>EUR</td>\n",
       "      <td>79833</td>\n",
       "      <td>DE</td>\n",
       "      <td>On site</td>\n",
       "      <td>DE</td>\n",
       "      <td>Large</td>\n",
       "    </tr>\n",
       "    <tr>\n",
       "      <th>1</th>\n",
       "      <td>2020</td>\n",
       "      <td>Senior Level/ Intermediate</td>\n",
       "      <td>Full Time</td>\n",
       "      <td>Machine Learning Scientist</td>\n",
       "      <td>260000</td>\n",
       "      <td>USD</td>\n",
       "      <td>260000</td>\n",
       "      <td>JP</td>\n",
       "      <td>On site</td>\n",
       "      <td>JP</td>\n",
       "      <td>Small</td>\n",
       "    </tr>\n",
       "    <tr>\n",
       "      <th>2</th>\n",
       "      <td>2020</td>\n",
       "      <td>Senior Level/ Intermediate</td>\n",
       "      <td>Full Time</td>\n",
       "      <td>Big Data Engineer</td>\n",
       "      <td>85000</td>\n",
       "      <td>GBP</td>\n",
       "      <td>109024</td>\n",
       "      <td>GB</td>\n",
       "      <td>Hybrid</td>\n",
       "      <td>GB</td>\n",
       "      <td>Medium</td>\n",
       "    </tr>\n",
       "    <tr>\n",
       "      <th>3</th>\n",
       "      <td>2020</td>\n",
       "      <td>Junior Level/ Mid</td>\n",
       "      <td>Full Time</td>\n",
       "      <td>Product Data Analyst</td>\n",
       "      <td>20000</td>\n",
       "      <td>USD</td>\n",
       "      <td>20000</td>\n",
       "      <td>HN</td>\n",
       "      <td>On site</td>\n",
       "      <td>HN</td>\n",
       "      <td>Small</td>\n",
       "    </tr>\n",
       "    <tr>\n",
       "      <th>4</th>\n",
       "      <td>2020</td>\n",
       "      <td>Senior Level/ Intermediate</td>\n",
       "      <td>Full Time</td>\n",
       "      <td>Machine Learning Engineer</td>\n",
       "      <td>150000</td>\n",
       "      <td>USD</td>\n",
       "      <td>150000</td>\n",
       "      <td>US</td>\n",
       "      <td>Hybrid</td>\n",
       "      <td>US</td>\n",
       "      <td>Large</td>\n",
       "    </tr>\n",
       "  </tbody>\n",
       "</table>\n",
       "</div>"
      ],
      "text/plain": [
       "   Work Year            Experience Level Employment Type  \\\n",
       "0       2020           Junior Level/ Mid       Full Time   \n",
       "1       2020  Senior Level/ Intermediate       Full Time   \n",
       "2       2020  Senior Level/ Intermediate       Full Time   \n",
       "3       2020           Junior Level/ Mid       Full Time   \n",
       "4       2020  Senior Level/ Intermediate       Full Time   \n",
       "\n",
       "                    Job Title  Salary Salary Currency  Salary in USD  \\\n",
       "0              Data Scientist   70000             EUR          79833   \n",
       "1  Machine Learning Scientist  260000             USD         260000   \n",
       "2           Big Data Engineer   85000             GBP         109024   \n",
       "3        Product Data Analyst   20000             USD          20000   \n",
       "4   Machine Learning Engineer  150000             USD         150000   \n",
       "\n",
       "  Employee Residence Remote Ratio Company Location Company Size  \n",
       "0                 DE      On site               DE        Large  \n",
       "1                 JP      On site               JP        Small  \n",
       "2                 GB       Hybrid               GB       Medium  \n",
       "3                 HN      On site               HN        Small  \n",
       "4                 US       Hybrid               US        Large  "
      ]
     },
     "execution_count": 14,
     "metadata": {},
     "output_type": "execute_result"
    }
   ],
   "source": [
    "df1.head()"
   ]
  },
  {
   "cell_type": "code",
   "execution_count": 15,
   "id": "15a29b48",
   "metadata": {},
   "outputs": [
    {
     "name": "stdout",
     "output_type": "stream",
     "text": [
      "<class 'pandas.core.frame.DataFrame'>\n",
      "RangeIndex: 607 entries, 0 to 606\n",
      "Data columns (total 11 columns):\n",
      " #   Column              Non-Null Count  Dtype \n",
      "---  ------              --------------  ----- \n",
      " 0   Work Year           607 non-null    int64 \n",
      " 1   Experience Level    607 non-null    object\n",
      " 2   Employment Type     607 non-null    object\n",
      " 3   Job Title           607 non-null    object\n",
      " 4   Salary              607 non-null    int64 \n",
      " 5   Salary Currency     607 non-null    object\n",
      " 6   Salary in USD       607 non-null    int64 \n",
      " 7   Employee Residence  607 non-null    object\n",
      " 8   Remote Ratio        607 non-null    object\n",
      " 9   Company Location    607 non-null    object\n",
      " 10  Company Size        607 non-null    object\n",
      "dtypes: int64(3), object(8)\n",
      "memory usage: 52.3+ KB\n"
     ]
    }
   ],
   "source": [
    "df1.info()"
   ]
  },
  {
   "cell_type": "code",
   "execution_count": 16,
   "id": "a255e4ef",
   "metadata": {},
   "outputs": [
    {
     "data": {
      "text/html": [
       "<div>\n",
       "<style scoped>\n",
       "    .dataframe tbody tr th:only-of-type {\n",
       "        vertical-align: middle;\n",
       "    }\n",
       "\n",
       "    .dataframe tbody tr th {\n",
       "        vertical-align: top;\n",
       "    }\n",
       "\n",
       "    .dataframe thead th {\n",
       "        text-align: right;\n",
       "    }\n",
       "</style>\n",
       "<table border=\"1\" class=\"dataframe\">\n",
       "  <thead>\n",
       "    <tr style=\"text-align: right;\">\n",
       "      <th></th>\n",
       "      <th>Work Year</th>\n",
       "      <th>Salary</th>\n",
       "      <th>Salary in USD</th>\n",
       "    </tr>\n",
       "  </thead>\n",
       "  <tbody>\n",
       "    <tr>\n",
       "      <th>count</th>\n",
       "      <td>607.000000</td>\n",
       "      <td>6.070000e+02</td>\n",
       "      <td>607.000000</td>\n",
       "    </tr>\n",
       "    <tr>\n",
       "      <th>mean</th>\n",
       "      <td>2021.405272</td>\n",
       "      <td>3.240001e+05</td>\n",
       "      <td>112297.869852</td>\n",
       "    </tr>\n",
       "    <tr>\n",
       "      <th>std</th>\n",
       "      <td>0.692133</td>\n",
       "      <td>1.544357e+06</td>\n",
       "      <td>70957.259411</td>\n",
       "    </tr>\n",
       "    <tr>\n",
       "      <th>min</th>\n",
       "      <td>2020.000000</td>\n",
       "      <td>4.000000e+03</td>\n",
       "      <td>2859.000000</td>\n",
       "    </tr>\n",
       "    <tr>\n",
       "      <th>25%</th>\n",
       "      <td>2021.000000</td>\n",
       "      <td>7.000000e+04</td>\n",
       "      <td>62726.000000</td>\n",
       "    </tr>\n",
       "    <tr>\n",
       "      <th>50%</th>\n",
       "      <td>2022.000000</td>\n",
       "      <td>1.150000e+05</td>\n",
       "      <td>101570.000000</td>\n",
       "    </tr>\n",
       "    <tr>\n",
       "      <th>75%</th>\n",
       "      <td>2022.000000</td>\n",
       "      <td>1.650000e+05</td>\n",
       "      <td>150000.000000</td>\n",
       "    </tr>\n",
       "    <tr>\n",
       "      <th>max</th>\n",
       "      <td>2022.000000</td>\n",
       "      <td>3.040000e+07</td>\n",
       "      <td>600000.000000</td>\n",
       "    </tr>\n",
       "  </tbody>\n",
       "</table>\n",
       "</div>"
      ],
      "text/plain": [
       "         Work Year        Salary  Salary in USD\n",
       "count   607.000000  6.070000e+02     607.000000\n",
       "mean   2021.405272  3.240001e+05  112297.869852\n",
       "std       0.692133  1.544357e+06   70957.259411\n",
       "min    2020.000000  4.000000e+03    2859.000000\n",
       "25%    2021.000000  7.000000e+04   62726.000000\n",
       "50%    2022.000000  1.150000e+05  101570.000000\n",
       "75%    2022.000000  1.650000e+05  150000.000000\n",
       "max    2022.000000  3.040000e+07  600000.000000"
      ]
     },
     "execution_count": 16,
     "metadata": {},
     "output_type": "execute_result"
    }
   ],
   "source": [
    "df1.describe()"
   ]
  },
  {
   "cell_type": "markdown",
   "id": "c45bc1f9",
   "metadata": {},
   "source": [
    "### Exploratory Data Analysis"
   ]
  },
  {
   "cell_type": "markdown",
   "id": "2b4e9c77",
   "metadata": {},
   "source": [
    "#### Question 1: What does the structure look like in terms of Experience?"
   ]
  },
  {
   "cell_type": "code",
   "execution_count": 17,
   "id": "eb3317da",
   "metadata": {},
   "outputs": [
    {
     "data": {
      "text/plain": [
       "Senior Level/ Intermediate    280\n",
       "Junior Level/ Mid             213\n",
       "Entry Level                    88\n",
       "Executive Level/ Director      26\n",
       "Name: Experience Level, dtype: int64"
      ]
     },
     "execution_count": 17,
     "metadata": {},
     "output_type": "execute_result"
    }
   ],
   "source": [
    "df1['Experience Level'].value_counts()"
   ]
  },
  {
   "cell_type": "markdown",
   "id": "56ea448a",
   "metadata": {},
   "source": [
    "More Intermediate level roles were advertised, followed by Junior Level... Executive level is the least advertised level."
   ]
  },
  {
   "cell_type": "code",
   "execution_count": 18,
   "id": "7529f8fc",
   "metadata": {},
   "outputs": [
    {
     "data": {
      "text/plain": [
       "array(['Junior Level/ Mid', 'Senior Level/ Intermediate', 'Entry Level',\n",
       "       'Executive Level/ Director'], dtype=object)"
      ]
     },
     "execution_count": 18,
     "metadata": {},
     "output_type": "execute_result"
    }
   ],
   "source": [
    "df1['Experience Level'].unique()"
   ]
  },
  {
   "cell_type": "code",
   "execution_count": 19,
   "id": "2143ccd3",
   "metadata": {},
   "outputs": [
    {
     "data": {
      "text/html": [
       "<div>\n",
       "<style scoped>\n",
       "    .dataframe tbody tr th:only-of-type {\n",
       "        vertical-align: middle;\n",
       "    }\n",
       "\n",
       "    .dataframe tbody tr th {\n",
       "        vertical-align: top;\n",
       "    }\n",
       "\n",
       "    .dataframe thead th {\n",
       "        text-align: right;\n",
       "    }\n",
       "</style>\n",
       "<table border=\"1\" class=\"dataframe\">\n",
       "  <thead>\n",
       "    <tr style=\"text-align: right;\">\n",
       "      <th></th>\n",
       "      <th>Work Year</th>\n",
       "      <th>Salary</th>\n",
       "      <th>Salary in USD</th>\n",
       "    </tr>\n",
       "    <tr>\n",
       "      <th>Experience Level</th>\n",
       "      <th></th>\n",
       "      <th></th>\n",
       "      <th></th>\n",
       "    </tr>\n",
       "  </thead>\n",
       "  <tbody>\n",
       "    <tr>\n",
       "      <th>Entry Level</th>\n",
       "      <td>2021.011364</td>\n",
       "      <td>264622.454545</td>\n",
       "      <td>61643.318182</td>\n",
       "    </tr>\n",
       "    <tr>\n",
       "      <th>Executive Level/ Director</th>\n",
       "      <td>2021.423077</td>\n",
       "      <td>427072.115385</td>\n",
       "      <td>199392.038462</td>\n",
       "    </tr>\n",
       "    <tr>\n",
       "      <th>Junior Level/ Mid</th>\n",
       "      <td>2021.276995</td>\n",
       "      <td>480617.690141</td>\n",
       "      <td>87996.056338</td>\n",
       "    </tr>\n",
       "    <tr>\n",
       "      <th>Senior Level/ Intermediate</th>\n",
       "      <td>2021.625000</td>\n",
       "      <td>213949.353571</td>\n",
       "      <td>138617.292857</td>\n",
       "    </tr>\n",
       "  </tbody>\n",
       "</table>\n",
       "</div>"
      ],
      "text/plain": [
       "                              Work Year         Salary  Salary in USD\n",
       "Experience Level                                                     \n",
       "Entry Level                 2021.011364  264622.454545   61643.318182\n",
       "Executive Level/ Director   2021.423077  427072.115385  199392.038462\n",
       "Junior Level/ Mid           2021.276995  480617.690141   87996.056338\n",
       "Senior Level/ Intermediate  2021.625000  213949.353571  138617.292857"
      ]
     },
     "execution_count": 19,
     "metadata": {},
     "output_type": "execute_result"
    }
   ],
   "source": [
    "results = df1.groupby('Experience Level').mean()\n",
    "results"
   ]
  },
  {
   "cell_type": "code",
   "execution_count": 20,
   "id": "942fc68b",
   "metadata": {},
   "outputs": [
    {
     "data": {
      "image/png": "[encoded data removed]",
      "text/plain": [
       "<Figure size 432x288 with 1 Axes>"
      ]
     },
     "metadata": {
      "needs_background": "light"
     },
     "output_type": "display_data"
    }
   ],
   "source": [
    "levels = [level for level, df in df1.groupby('Experience Level')]\n",
    "\n",
    "plt.bar(levels, results['Salary in USD'], color = 'purple')\n",
    "plt.xticks(levels, rotation = 'vertical', size = 10)\n",
    "plt.ylabel('Average salary in USD')\n",
    "plt.xlabel('Experience Level')\n",
    "plt.show()"
   ]
  },
  {
   "cell_type": "markdown",
   "id": "5ebcf6d9",
   "metadata": {},
   "source": [
    "As expected Executive level employees earn most based on the average salary."
   ]
  },
  {
   "cell_type": "markdown",
   "id": "cbcd7996",
   "metadata": {},
   "source": [
    "#### Question 2: What are the most sought after data science roles?"
   ]
  },
  {
   "cell_type": "code",
   "execution_count": 42,
   "id": "1964a6ac",
   "metadata": {},
   "outputs": [
    {
     "data": {
      "text/plain": [
       "Data Scientist                143\n",
       "Data Engineer                 132\n",
       "Data Analyst                   97\n",
       "Machine Learning Engineer      41\n",
       "Research Scientist             16\n",
       "Data Science Manager           12\n",
       "Data Architect                 11\n",
       "Big Data Engineer               8\n",
       "Machine Learning Scientist      8\n",
       "Principal Data Scientist        7\n",
       "Name: Job Title, dtype: int64"
      ]
     },
     "execution_count": 42,
     "metadata": {},
     "output_type": "execute_result"
    }
   ],
   "source": [
    "df1['Job Title'].value_counts()[:10]"
   ]
  },
  {
   "cell_type": "markdown",
   "id": "ebadf9bc",
   "metadata": {},
   "source": [
    "The top 5 most sought after data science roles are Data Scientist, Data Engineer, Data Analyst, Machine Learning Engineer and Research Scientist."
   ]
  },
  {
   "cell_type": "markdown",
   "id": "77e98f8a",
   "metadata": {},
   "source": [
    "#### Question 3: What are the best paying data science roles?"
   ]
  },
  {
   "cell_type": "code",
   "execution_count": 22,
   "id": "b56d769b",
   "metadata": {},
   "outputs": [
    {
     "data": {
      "text/html": [
       "<div>\n",
       "<style scoped>\n",
       "    .dataframe tbody tr th:only-of-type {\n",
       "        vertical-align: middle;\n",
       "    }\n",
       "\n",
       "    .dataframe tbody tr th {\n",
       "        vertical-align: top;\n",
       "    }\n",
       "\n",
       "    .dataframe thead th {\n",
       "        text-align: right;\n",
       "    }\n",
       "</style>\n",
       "<table border=\"1\" class=\"dataframe\">\n",
       "  <thead>\n",
       "    <tr style=\"text-align: right;\">\n",
       "      <th></th>\n",
       "      <th>Work Year</th>\n",
       "      <th>Salary</th>\n",
       "      <th>Salary in USD</th>\n",
       "    </tr>\n",
       "    <tr>\n",
       "      <th>Job Title</th>\n",
       "      <th></th>\n",
       "      <th></th>\n",
       "      <th></th>\n",
       "    </tr>\n",
       "  </thead>\n",
       "  <tbody>\n",
       "    <tr>\n",
       "      <th>Data Analytics Lead</th>\n",
       "      <td>2022.000000</td>\n",
       "      <td>405000.000000</td>\n",
       "      <td>405000.000000</td>\n",
       "    </tr>\n",
       "    <tr>\n",
       "      <th>Principal Data Engineer</th>\n",
       "      <td>2021.000000</td>\n",
       "      <td>328333.333333</td>\n",
       "      <td>328333.333333</td>\n",
       "    </tr>\n",
       "    <tr>\n",
       "      <th>Financial Data Analyst</th>\n",
       "      <td>2021.500000</td>\n",
       "      <td>275000.000000</td>\n",
       "      <td>275000.000000</td>\n",
       "    </tr>\n",
       "    <tr>\n",
       "      <th>Principal Data Scientist</th>\n",
       "      <td>2021.000000</td>\n",
       "      <td>206714.285714</td>\n",
       "      <td>215242.428571</td>\n",
       "    </tr>\n",
       "    <tr>\n",
       "      <th>Director of Data Science</th>\n",
       "      <td>2021.000000</td>\n",
       "      <td>193285.714286</td>\n",
       "      <td>195074.000000</td>\n",
       "    </tr>\n",
       "    <tr>\n",
       "      <th>Data Architect</th>\n",
       "      <td>2021.727273</td>\n",
       "      <td>177873.909091</td>\n",
       "      <td>177873.909091</td>\n",
       "    </tr>\n",
       "    <tr>\n",
       "      <th>Applied Data Scientist</th>\n",
       "      <td>2021.600000</td>\n",
       "      <td>172400.000000</td>\n",
       "      <td>175655.000000</td>\n",
       "    </tr>\n",
       "    <tr>\n",
       "      <th>Analytics Engineer</th>\n",
       "      <td>2022.000000</td>\n",
       "      <td>175000.000000</td>\n",
       "      <td>175000.000000</td>\n",
       "    </tr>\n",
       "    <tr>\n",
       "      <th>Data Specialist</th>\n",
       "      <td>2021.000000</td>\n",
       "      <td>165000.000000</td>\n",
       "      <td>165000.000000</td>\n",
       "    </tr>\n",
       "    <tr>\n",
       "      <th>Head of Data</th>\n",
       "      <td>2021.400000</td>\n",
       "      <td>156400.000000</td>\n",
       "      <td>160162.600000</td>\n",
       "    </tr>\n",
       "  </tbody>\n",
       "</table>\n",
       "</div>"
      ],
      "text/plain": [
       "                            Work Year         Salary  Salary in USD\n",
       "Job Title                                                          \n",
       "Data Analytics Lead       2022.000000  405000.000000  405000.000000\n",
       "Principal Data Engineer   2021.000000  328333.333333  328333.333333\n",
       "Financial Data Analyst    2021.500000  275000.000000  275000.000000\n",
       "Principal Data Scientist  2021.000000  206714.285714  215242.428571\n",
       "Director of Data Science  2021.000000  193285.714286  195074.000000\n",
       "Data Architect            2021.727273  177873.909091  177873.909091\n",
       "Applied Data Scientist    2021.600000  172400.000000  175655.000000\n",
       "Analytics Engineer        2022.000000  175000.000000  175000.000000\n",
       "Data Specialist           2021.000000  165000.000000  165000.000000\n",
       "Head of Data              2021.400000  156400.000000  160162.600000"
      ]
     },
     "execution_count": 22,
     "metadata": {},
     "output_type": "execute_result"
    }
   ],
   "source": [
    "results = df1.groupby('Job Title').mean()\n",
    "results = results.nlargest(10,'Salary in USD')\n",
    "results"
   ]
  },
  {
   "cell_type": "code",
   "execution_count": 23,
   "id": "cdbc3c2f",
   "metadata": {},
   "outputs": [
    {
     "data": {
      "image/png": "[encoded data removed]",
      "text/plain": [
       "<Figure size 432x288 with 1 Axes>"
      ]
     },
     "metadata": {
      "needs_background": "light"
     },
     "output_type": "display_data"
    }
   ],
   "source": [
    "roles = ['Data Analytics Lead','Principal Data Engineer','Financial Data Analyst','Principal Data Scientist',\n",
    "        'Director of Data Science','Data Architect','Applied Data Scientist','Analytics Engineer','Data Specialist',\n",
    "        'Head of Data']\n",
    "plt.bar(roles, results['Salary in USD'], color = 'purple')\n",
    "plt.xticks(roles, rotation ='vertical', size = 10)\n",
    "plt.title('Top 10 highest paid data science roles by average salary')\n",
    "plt.ylabel('Average Salary in USD')\n",
    "plt.xlabel('Job Title')\n",
    "plt.show()"
   ]
  },
  {
   "cell_type": "markdown",
   "id": "59c5df91",
   "metadata": {},
   "source": [
    "#### Question 4: Has pay generally improved over the years?"
   ]
  },
  {
   "cell_type": "code",
   "execution_count": 24,
   "id": "66860248",
   "metadata": {},
   "outputs": [
    {
     "data": {
      "text/plain": [
       "Work Year\n",
       "2020     95813.000000\n",
       "2021     99853.792627\n",
       "2022    124522.006289\n",
       "Name: Salary in USD, dtype: float64"
      ]
     },
     "execution_count": 24,
     "metadata": {},
     "output_type": "execute_result"
    }
   ],
   "source": [
    "df1.groupby('Work Year')['Salary in USD'].mean()"
   ]
  },
  {
   "cell_type": "code",
   "execution_count": 25,
   "id": "00abaa4f",
   "metadata": {},
   "outputs": [
    {
     "data": {
      "text/html": [
       "<div>\n",
       "<style scoped>\n",
       "    .dataframe tbody tr th:only-of-type {\n",
       "        vertical-align: middle;\n",
       "    }\n",
       "\n",
       "    .dataframe tbody tr th {\n",
       "        vertical-align: top;\n",
       "    }\n",
       "\n",
       "    .dataframe thead th {\n",
       "        text-align: right;\n",
       "    }\n",
       "</style>\n",
       "<table border=\"1\" class=\"dataframe\">\n",
       "  <thead>\n",
       "    <tr style=\"text-align: right;\">\n",
       "      <th></th>\n",
       "      <th>Salary</th>\n",
       "      <th>Salary in USD</th>\n",
       "    </tr>\n",
       "    <tr>\n",
       "      <th>Work Year</th>\n",
       "      <th></th>\n",
       "      <th></th>\n",
       "    </tr>\n",
       "  </thead>\n",
       "  <tbody>\n",
       "    <tr>\n",
       "      <th>2020</th>\n",
       "      <td>382386.236111</td>\n",
       "      <td>95813.000000</td>\n",
       "    </tr>\n",
       "    <tr>\n",
       "      <th>2021</th>\n",
       "      <td>546677.387097</td>\n",
       "      <td>99853.792627</td>\n",
       "    </tr>\n",
       "    <tr>\n",
       "      <th>2022</th>\n",
       "      <td>158827.786164</td>\n",
       "      <td>124522.006289</td>\n",
       "    </tr>\n",
       "  </tbody>\n",
       "</table>\n",
       "</div>"
      ],
      "text/plain": [
       "                  Salary  Salary in USD\n",
       "Work Year                              \n",
       "2020       382386.236111   95813.000000\n",
       "2021       546677.387097   99853.792627\n",
       "2022       158827.786164  124522.006289"
      ]
     },
     "execution_count": 25,
     "metadata": {},
     "output_type": "execute_result"
    }
   ],
   "source": [
    "results = df1.groupby('Work Year').mean()\n",
    "results"
   ]
  },
  {
   "cell_type": "code",
   "execution_count": 26,
   "id": "611fdfbe",
   "metadata": {},
   "outputs": [
    {
     "data": {
      "image/png": "[encoded data removed]",
      "text/plain": [
       "<Figure size 432x288 with 1 Axes>"
      ]
     },
     "metadata": {
      "needs_background": "light"
     },
     "output_type": "display_data"
    }
   ],
   "source": [
    "years = [year for year, df in df1.groupby('Work Year')]\n",
    "\n",
    "plt.plot(years, results['Salary in USD'], color = 'purple')\n",
    "plt.xticks(years, size = 10)\n",
    "plt.ylabel('Average salary in USD')\n",
    "plt.xlabel('Work year')\n",
    "plt.show()"
   ]
  },
  {
   "cell_type": "markdown",
   "id": "b7781bb8",
   "metadata": {},
   "source": [
    "From the graph above, it can be seen that the average pay for data science roles has maintained an increase since 2020 through 2022."
   ]
  },
  {
   "cell_type": "markdown",
   "id": "addc9e74",
   "metadata": {},
   "source": [
    "#### Question 5: What is the best paying Employment type?"
   ]
  },
  {
   "cell_type": "code",
   "execution_count": 27,
   "id": "462ca2a6",
   "metadata": {},
   "outputs": [
    {
     "data": {
      "text/plain": [
       "Employment Type\n",
       "Contract     184575.000000\n",
       "Full Time    113025.721284\n",
       "Part Time     33070.500000\n",
       "Name: Salary in USD, dtype: float64"
      ]
     },
     "execution_count": 27,
     "metadata": {},
     "output_type": "execute_result"
    }
   ],
   "source": [
    "df1.groupby('Employment Type')['Salary in USD'].mean()"
   ]
  },
  {
   "cell_type": "code",
   "execution_count": 28,
   "id": "fed92022",
   "metadata": {},
   "outputs": [
    {
     "data": {
      "text/html": [
       "<div>\n",
       "<style scoped>\n",
       "    .dataframe tbody tr th:only-of-type {\n",
       "        vertical-align: middle;\n",
       "    }\n",
       "\n",
       "    .dataframe tbody tr th {\n",
       "        vertical-align: top;\n",
       "    }\n",
       "\n",
       "    .dataframe thead th {\n",
       "        text-align: right;\n",
       "    }\n",
       "</style>\n",
       "<table border=\"1\" class=\"dataframe\">\n",
       "  <thead>\n",
       "    <tr style=\"text-align: right;\">\n",
       "      <th></th>\n",
       "      <th>Work Year</th>\n",
       "      <th>Salary</th>\n",
       "      <th>Salary in USD</th>\n",
       "    </tr>\n",
       "    <tr>\n",
       "      <th>Employment Type</th>\n",
       "      <th></th>\n",
       "      <th></th>\n",
       "      <th></th>\n",
       "    </tr>\n",
       "  </thead>\n",
       "  <tbody>\n",
       "    <tr>\n",
       "      <th>Contract</th>\n",
       "      <td>2021.000000</td>\n",
       "      <td>184000.000000</td>\n",
       "      <td>184575.000000</td>\n",
       "    </tr>\n",
       "    <tr>\n",
       "      <th>Full Time</th>\n",
       "      <td>2021.415541</td>\n",
       "      <td>329211.618243</td>\n",
       "      <td>113025.721284</td>\n",
       "    </tr>\n",
       "    <tr>\n",
       "      <th>Part Time</th>\n",
       "      <td>2021.000000</td>\n",
       "      <td>85476.000000</td>\n",
       "      <td>33070.500000</td>\n",
       "    </tr>\n",
       "  </tbody>\n",
       "</table>\n",
       "</div>"
      ],
      "text/plain": [
       "                   Work Year         Salary  Salary in USD\n",
       "Employment Type                                           \n",
       "Contract         2021.000000  184000.000000  184575.000000\n",
       "Full Time        2021.415541  329211.618243  113025.721284\n",
       "Part Time        2021.000000   85476.000000   33070.500000"
      ]
     },
     "execution_count": 28,
     "metadata": {},
     "output_type": "execute_result"
    }
   ],
   "source": [
    "results = df1.groupby('Employment Type').mean()\n",
    "results"
   ]
  },
  {
   "cell_type": "code",
   "execution_count": 29,
   "id": "b6af9148",
   "metadata": {},
   "outputs": [
    {
     "data": {
      "image/png": "[encoded data removed]",
      "text/plain": [
       "<Figure size 432x288 with 1 Axes>"
      ]
     },
     "metadata": {
      "needs_background": "light"
     },
     "output_type": "display_data"
    }
   ],
   "source": [
    "types = [Etype for Etype, df in df1.groupby('Employment Type')]\n",
    "\n",
    "plt.bar(types, results['Salary in USD'], color = 'purple')\n",
    "plt.xticks(types, size = 10)\n",
    "plt.ylabel('Average salary in USD')\n",
    "plt.xlabel('Employement Type')\n",
    "plt.show()"
   ]
  },
  {
   "cell_type": "markdown",
   "id": "d45c3916",
   "metadata": {},
   "source": [
    "Contract employees are paid the highest average salary (>180,000 USD)"
   ]
  },
  {
   "cell_type": "code",
   "execution_count": 30,
   "id": "b7b323ed",
   "metadata": {},
   "outputs": [
    {
     "data": {
      "text/plain": [
       "Employment Type\n",
       "Contract       5\n",
       "Full Time    592\n",
       "Part Time     10\n",
       "Name: Job Title, dtype: int64"
      ]
     },
     "execution_count": 30,
     "metadata": {},
     "output_type": "execute_result"
    }
   ],
   "source": [
    "JobCount = df1.groupby('Employment Type').count()['Job Title']\n",
    "JobCount"
   ]
  },
  {
   "cell_type": "code",
   "execution_count": 31,
   "id": "0e94e578",
   "metadata": {},
   "outputs": [
    {
     "data": {
      "image/png": "[encoded data removed]",
      "text/plain": [
       "<Figure size 432x288 with 1 Axes>"
      ]
     },
     "metadata": {
      "needs_background": "light"
     },
     "output_type": "display_data"
    }
   ],
   "source": [
    "plt.bar(types, JobCount, color = 'purple')\n",
    "plt.xticks(types, size = 10)\n",
    "plt.ylabel('Job Count')\n",
    "plt.xlabel('Employement Type')\n",
    "plt.show()\n"
   ]
  },
  {
   "cell_type": "markdown",
   "id": "91d9afb5",
   "metadata": {},
   "source": [
    "From the above chart, we can deduce that most employees are working full time."
   ]
  },
  {
   "cell_type": "markdown",
   "id": "ec39c4d0",
   "metadata": {},
   "source": [
    "#### Question 6: What does the structure look like in terms of remote work?"
   ]
  },
  {
   "cell_type": "code",
   "execution_count": 32,
   "id": "05411516",
   "metadata": {},
   "outputs": [
    {
     "data": {
      "text/html": [
       "<div>\n",
       "<style scoped>\n",
       "    .dataframe tbody tr th:only-of-type {\n",
       "        vertical-align: middle;\n",
       "    }\n",
       "\n",
       "    .dataframe tbody tr th {\n",
       "        vertical-align: top;\n",
       "    }\n",
       "\n",
       "    .dataframe thead th {\n",
       "        text-align: right;\n",
       "    }\n",
       "</style>\n",
       "<table border=\"1\" class=\"dataframe\">\n",
       "  <thead>\n",
       "    <tr style=\"text-align: right;\">\n",
       "      <th></th>\n",
       "      <th>Work Year</th>\n",
       "      <th>Salary</th>\n",
       "      <th>Salary in USD</th>\n",
       "    </tr>\n",
       "    <tr>\n",
       "      <th>Remote Ratio</th>\n",
       "      <th></th>\n",
       "      <th></th>\n",
       "      <th></th>\n",
       "    </tr>\n",
       "  </thead>\n",
       "  <tbody>\n",
       "    <tr>\n",
       "      <th>Hybrid</th>\n",
       "      <td>2020.909091</td>\n",
       "      <td>708018.171717</td>\n",
       "      <td>80823.030303</td>\n",
       "    </tr>\n",
       "    <tr>\n",
       "      <th>On site</th>\n",
       "      <td>2021.496063</td>\n",
       "      <td>218147.842520</td>\n",
       "      <td>106354.622047</td>\n",
       "    </tr>\n",
       "    <tr>\n",
       "      <th>Remote</th>\n",
       "      <td>2021.503937</td>\n",
       "      <td>259499.902887</td>\n",
       "      <td>122457.454068</td>\n",
       "    </tr>\n",
       "  </tbody>\n",
       "</table>\n",
       "</div>"
      ],
      "text/plain": [
       "                Work Year         Salary  Salary in USD\n",
       "Remote Ratio                                           \n",
       "Hybrid        2020.909091  708018.171717   80823.030303\n",
       "On site       2021.496063  218147.842520  106354.622047\n",
       "Remote        2021.503937  259499.902887  122457.454068"
      ]
     },
     "execution_count": 32,
     "metadata": {},
     "output_type": "execute_result"
    }
   ],
   "source": [
    "results = df1.groupby('Remote Ratio').mean()\n",
    "results"
   ]
  },
  {
   "cell_type": "code",
   "execution_count": 33,
   "id": "07e5b051",
   "metadata": {},
   "outputs": [
    {
     "data": {
      "image/png": "[encoded data removed]",
      "text/plain": [
       "<Figure size 432x288 with 1 Axes>"
      ]
     },
     "metadata": {
      "needs_background": "light"
     },
     "output_type": "display_data"
    }
   ],
   "source": [
    "Ratio = [ratio for ratio, df in df1.groupby('Remote Ratio')]\n",
    "\n",
    "plt.bar(Ratio, results['Salary in USD'], color = 'purple')\n",
    "plt.xticks(Ratio, size = 10)\n",
    "plt.ylabel('Average salary in USD')\n",
    "plt.xlabel('Remote Work')\n",
    "plt.show()"
   ]
  },
  {
   "cell_type": "markdown",
   "id": "39ad9e13",
   "metadata": {},
   "source": [
    "Remote workers are the highest paid in terms of  average salary."
   ]
  },
  {
   "cell_type": "code",
   "execution_count": 34,
   "id": "f3f0a161",
   "metadata": {},
   "outputs": [
    {
     "data": {
      "text/html": [
       "<div>\n",
       "<style scoped>\n",
       "    .dataframe tbody tr th:only-of-type {\n",
       "        vertical-align: middle;\n",
       "    }\n",
       "\n",
       "    .dataframe tbody tr th {\n",
       "        vertical-align: top;\n",
       "    }\n",
       "\n",
       "    .dataframe thead th {\n",
       "        text-align: right;\n",
       "    }\n",
       "</style>\n",
       "<table border=\"1\" class=\"dataframe\">\n",
       "  <thead>\n",
       "    <tr style=\"text-align: right;\">\n",
       "      <th></th>\n",
       "      <th>Work Year</th>\n",
       "      <th>Salary</th>\n",
       "      <th>Salary in USD</th>\n",
       "      <th>Total Roles</th>\n",
       "    </tr>\n",
       "    <tr>\n",
       "      <th>Remote Ratio</th>\n",
       "      <th></th>\n",
       "      <th></th>\n",
       "      <th></th>\n",
       "      <th></th>\n",
       "    </tr>\n",
       "  </thead>\n",
       "  <tbody>\n",
       "    <tr>\n",
       "      <th>Hybrid</th>\n",
       "      <td>2020.909091</td>\n",
       "      <td>708018.171717</td>\n",
       "      <td>80823.030303</td>\n",
       "      <td>607</td>\n",
       "    </tr>\n",
       "    <tr>\n",
       "      <th>On site</th>\n",
       "      <td>2021.496063</td>\n",
       "      <td>218147.842520</td>\n",
       "      <td>106354.622047</td>\n",
       "      <td>607</td>\n",
       "    </tr>\n",
       "    <tr>\n",
       "      <th>Remote</th>\n",
       "      <td>2021.503937</td>\n",
       "      <td>259499.902887</td>\n",
       "      <td>122457.454068</td>\n",
       "      <td>607</td>\n",
       "    </tr>\n",
       "  </tbody>\n",
       "</table>\n",
       "</div>"
      ],
      "text/plain": [
       "                Work Year         Salary  Salary in USD  Total Roles\n",
       "Remote Ratio                                                        \n",
       "Hybrid        2020.909091  708018.171717   80823.030303          607\n",
       "On site       2021.496063  218147.842520  106354.622047          607\n",
       "Remote        2021.503937  259499.902887  122457.454068          607"
      ]
     },
     "execution_count": 34,
     "metadata": {},
     "output_type": "execute_result"
    }
   ],
   "source": [
    "results['Total Roles'] = 607\n",
    "results"
   ]
  },
  {
   "cell_type": "code",
   "execution_count": 35,
   "id": "44fac390",
   "metadata": {},
   "outputs": [
    {
     "data": {
      "text/html": [
       "<div>\n",
       "<style scoped>\n",
       "    .dataframe tbody tr th:only-of-type {\n",
       "        vertical-align: middle;\n",
       "    }\n",
       "\n",
       "    .dataframe tbody tr th {\n",
       "        vertical-align: top;\n",
       "    }\n",
       "\n",
       "    .dataframe thead th {\n",
       "        text-align: right;\n",
       "    }\n",
       "</style>\n",
       "<table border=\"1\" class=\"dataframe\">\n",
       "  <thead>\n",
       "    <tr style=\"text-align: right;\">\n",
       "      <th></th>\n",
       "      <th>Work Year</th>\n",
       "      <th>Salary</th>\n",
       "      <th>Salary in USD</th>\n",
       "      <th>Total Roles</th>\n",
       "      <th>Count</th>\n",
       "      <th>% Count</th>\n",
       "    </tr>\n",
       "    <tr>\n",
       "      <th>Remote Ratio</th>\n",
       "      <th></th>\n",
       "      <th></th>\n",
       "      <th></th>\n",
       "      <th></th>\n",
       "      <th></th>\n",
       "      <th></th>\n",
       "    </tr>\n",
       "  </thead>\n",
       "  <tbody>\n",
       "    <tr>\n",
       "      <th>Hybrid</th>\n",
       "      <td>2020.909091</td>\n",
       "      <td>708018.171717</td>\n",
       "      <td>80823.030303</td>\n",
       "      <td>607</td>\n",
       "      <td>99</td>\n",
       "      <td>16.0</td>\n",
       "    </tr>\n",
       "    <tr>\n",
       "      <th>On site</th>\n",
       "      <td>2021.496063</td>\n",
       "      <td>218147.842520</td>\n",
       "      <td>106354.622047</td>\n",
       "      <td>607</td>\n",
       "      <td>127</td>\n",
       "      <td>21.0</td>\n",
       "    </tr>\n",
       "    <tr>\n",
       "      <th>Remote</th>\n",
       "      <td>2021.503937</td>\n",
       "      <td>259499.902887</td>\n",
       "      <td>122457.454068</td>\n",
       "      <td>607</td>\n",
       "      <td>381</td>\n",
       "      <td>63.0</td>\n",
       "    </tr>\n",
       "  </tbody>\n",
       "</table>\n",
       "</div>"
      ],
      "text/plain": [
       "                Work Year         Salary  Salary in USD  Total Roles  Count  \\\n",
       "Remote Ratio                                                                  \n",
       "Hybrid        2020.909091  708018.171717   80823.030303          607     99   \n",
       "On site       2021.496063  218147.842520  106354.622047          607    127   \n",
       "Remote        2021.503937  259499.902887  122457.454068          607    381   \n",
       "\n",
       "              % Count  \n",
       "Remote Ratio           \n",
       "Hybrid           16.0  \n",
       "On site          21.0  \n",
       "Remote           63.0  "
      ]
     },
     "execution_count": 35,
     "metadata": {},
     "output_type": "execute_result"
    }
   ],
   "source": [
    "results['Count'] = df1['Remote Ratio'].value_counts()\n",
    "results['% Count'] = ((results['Count'] / results['Total Roles']) * 100).round(0)\n",
    "results"
   ]
  },
  {
   "cell_type": "markdown",
   "id": "7dd9fa15",
   "metadata": {},
   "source": [
    "From the table above, we can see that 63% of advertised roles are fully remote"
   ]
  },
  {
   "cell_type": "code",
   "execution_count": 36,
   "id": "aa4a52e5",
   "metadata": {},
   "outputs": [],
   "source": [
    "df2 = df1[df1['Remote Ratio']=='Remote']\n",
    "remotework = df2.groupby('Work Year').count()['Job Title']"
   ]
  },
  {
   "cell_type": "code",
   "execution_count": 37,
   "id": "08e4f0c3",
   "metadata": {},
   "outputs": [
    {
     "data": {
      "text/plain": [
       "Work Year\n",
       "2020    106693.611111\n",
       "2021    114147.598291\n",
       "2022    129210.750000\n",
       "Name: Salary in USD, dtype: float64"
      ]
     },
     "execution_count": 37,
     "metadata": {},
     "output_type": "execute_result"
    }
   ],
   "source": [
    "AvgSalary = df2.groupby('Work Year').mean()[\"Salary in USD\"]\n",
    "AvgSalary"
   ]
  },
  {
   "cell_type": "code",
   "execution_count": 38,
   "id": "8016abe6",
   "metadata": {},
   "outputs": [
    {
     "data": {
      "text/html": [
       "<div>\n",
       "<style scoped>\n",
       "    .dataframe tbody tr th:only-of-type {\n",
       "        vertical-align: middle;\n",
       "    }\n",
       "\n",
       "    .dataframe tbody tr th {\n",
       "        vertical-align: top;\n",
       "    }\n",
       "\n",
       "    .dataframe thead th {\n",
       "        text-align: right;\n",
       "    }\n",
       "</style>\n",
       "<table border=\"1\" class=\"dataframe\">\n",
       "  <thead>\n",
       "    <tr style=\"text-align: right;\">\n",
       "      <th></th>\n",
       "      <th>Salary</th>\n",
       "      <th>Salary in USD</th>\n",
       "    </tr>\n",
       "    <tr>\n",
       "      <th>Work Year</th>\n",
       "      <th></th>\n",
       "      <th></th>\n",
       "    </tr>\n",
       "  </thead>\n",
       "  <tbody>\n",
       "    <tr>\n",
       "      <th>2020</th>\n",
       "      <td>239141.916667</td>\n",
       "      <td>106693.611111</td>\n",
       "    </tr>\n",
       "    <tr>\n",
       "      <th>2021</th>\n",
       "      <td>476121.102564</td>\n",
       "      <td>114147.598291</td>\n",
       "    </tr>\n",
       "    <tr>\n",
       "      <th>2022</th>\n",
       "      <td>151553.442982</td>\n",
       "      <td>129210.750000</td>\n",
       "    </tr>\n",
       "  </tbody>\n",
       "</table>\n",
       "</div>"
      ],
      "text/plain": [
       "                  Salary  Salary in USD\n",
       "Work Year                              \n",
       "2020       239141.916667  106693.611111\n",
       "2021       476121.102564  114147.598291\n",
       "2022       151553.442982  129210.750000"
      ]
     },
     "execution_count": 38,
     "metadata": {},
     "output_type": "execute_result"
    }
   ],
   "source": [
    "results = df2.groupby('Work Year').mean()\n",
    "results"
   ]
  },
  {
   "cell_type": "code",
   "execution_count": 39,
   "id": "d46eea06",
   "metadata": {},
   "outputs": [
    {
     "data": {
      "text/plain": [
       "Work Year\n",
       "2020     36\n",
       "2021    117\n",
       "2022    228\n",
       "Name: Work Year, dtype: int64"
      ]
     },
     "execution_count": 39,
     "metadata": {},
     "output_type": "execute_result"
    }
   ],
   "source": [
    "df2.groupby('Work Year')['Work Year'].count()"
   ]
  },
  {
   "cell_type": "code",
   "execution_count": 40,
   "id": "e8372f9b",
   "metadata": {},
   "outputs": [
    {
     "data": {
      "image/png": "[encoded data removed]",
      "text/plain": [
       "<Figure size 432x288 with 1 Axes>"
      ]
     },
     "metadata": {
      "needs_background": "light"
     },
     "output_type": "display_data"
    }
   ],
   "source": [
    "years = ['2020','2021', '2022']\n",
    "\n",
    "\n",
    "\n",
    "plt.plot(years, results['Salary in USD'], color = 'purple')\n",
    "plt.xticks(years, size = 10)\n",
    "plt.ylabel('Average salary in USD')\n",
    "plt.xlabel('Work year')\n",
    "plt.show()"
   ]
  },
  {
   "cell_type": "code",
   "execution_count": 41,
   "id": "7ca9023d",
   "metadata": {},
   "outputs": [
    {
     "data": {
      "image/png": "[encoded data removed]",
      "text/plain": [
       "<Figure size 432x288 with 2 Axes>"
      ]
     },
     "metadata": {
      "needs_background": "light"
     },
     "output_type": "display_data"
    }
   ],
   "source": [
    "AvgSalary = df2.groupby('Work Year').mean()[\"Salary in USD\"]\n",
    "\n",
    "fig, ax1 = plt.subplots()\n",
    "\n",
    "ax2 = ax1.twinx()\n",
    "ax1.bar(years, remotework, color='purple')\n",
    "ax2.plot(years, AvgSalary, color='red')\n",
    "\n",
    "ax1.set_xlabel('Work Year')\n",
    "ax1.set_ylabel('Remote Jobs Count', color='purple')\n",
    "ax2.set_ylabel('Average Salary($)', color='red')\n",
    "ax1.set_xticklabels(years)\n",
    "\n",
    "plt.show()"
   ]
  },
  {
   "cell_type": "markdown",
   "id": "af5546bb",
   "metadata": {},
   "source": [
    "From the above chart, we can see that the number of remote jobs increased drastically from 2020 to 2022... this may be due to the covid-19 pandemic.Likewise the average salary of remote workers also maintained an increase through these years."
   ]
  }
 ],
 "metadata": {
  "kernelspec": {
   "display_name": "Python 3 (ipykernel)",
   "language": "python",
   "name": "python3"
  },
  "language_info": {
   "codemirror_mode": {
    "name": "ipython",
    "version": 3
   },
   "file_extension": ".py",
   "mimetype": "text/x-python",
   "name": "python",
   "nbconvert_exporter": "python",
   "pygments_lexer": "ipython3",
   "version": "3.9.12"
  }
 },
 "nbformat": 4,
 "nbformat_minor": 5
}
